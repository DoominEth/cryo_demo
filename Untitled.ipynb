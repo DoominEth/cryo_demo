{
 "cells": [
  {
   "cell_type": "code",
   "execution_count": 1,
   "id": "1c659f68-baa3-439c-a1ec-bac1a213012f",
   "metadata": {},
   "outputs": [],
   "source": [
    "import asyncio\n",
    "import time\n",
    "\n",
    "import ctc.rpc\n",
    "import cryo\n",
    "import polars as pl\n",
    "import toolstr\n",
    "\n",
    "import pandas as pd\n",
    "\n",
    "from web3 import Web3, EthereumTesterProvider"
   ]
  },
  {
   "cell_type": "code",
   "execution_count": 2,
   "id": "81185e02-2666-4151-ae90-4494ad6fbf4e",
   "metadata": {},
   "outputs": [],
   "source": [
    "from dotenv import load_dotenv\n",
    "load_dotenv()\n",
    "import os"
   ]
  },
  {
   "cell_type": "code",
   "execution_count": 3,
   "id": "bd90764b-1f4a-48ee-a69b-a9b6fb162e4d",
   "metadata": {},
   "outputs": [],
   "source": [
    "INFURA_ENDPOINT = os.environ.get(\"INFURA_ENDPOINT\")\n",
    "os.environ[\"ETH_RPC_URL\"] = INFURA_ENDPOINT\n",
    "web3 =  Web3(Web3.HTTPProvider(INFURA_ENDPOINT))"
   ]
  },
  {
   "cell_type": "code",
   "execution_count": 4,
   "id": "7deae865-9bdb-40f7-a0fd-d1ff7c6523fd",
   "metadata": {},
   "outputs": [],
   "source": [
    "import time\n",
    "\n",
    "def measure_time(func, *args, **kwargs):\n",
    "    start_time = time.time()\n",
    "\n",
    "    result = func(*args, **kwargs)\n",
    "\n",
    "    end_time = time.time()\n",
    "\n",
    "    response_time = end_time - start_time\n",
    "\n",
    "    print(f\"The function took {response_time} seconds to complete\")\n",
    "\n",
    "    return result"
   ]
  },
  {
   "cell_type": "code",
   "execution_count": 5,
   "id": "28fe81d5-0e3a-46e8-8951-fe854529c7b0",
   "metadata": {},
   "outputs": [],
   "source": [
    "def cryo_Logs(dataType,start,end,toHex):\n",
    "    blocks = cryo.collect(\n",
    "        dataType,\n",
    "        start_block=start,\n",
    "        end_block=end,\n",
    "        hex=toHex\n",
    "    )\n",
    "    return blocks\n"
   ]
  },
  {
   "cell_type": "code",
   "execution_count": 6,
   "id": "bd524344-c5e9-4f99-a681-151f589d1b23",
   "metadata": {},
   "outputs": [],
   "source": [
    "def web3_Logs(web3, from_block, to_block):\n",
    "    filter_params = {\n",
    "        'fromBlock': from_block,\n",
    "        'toBlock': to_block,\n",
    "    }\n",
    "\n",
    "    logFilter = web3.eth.filter(filter_params)\n",
    "\n",
    "    logs = logFilter.get_all_entries()\n",
    "    return pd.DataFrame(logs)"
   ]
  },
  {
   "cell_type": "code",
   "execution_count": 9,
   "id": "7873ca59-776c-47f8-be01-9dc63c508cc2",
   "metadata": {},
   "outputs": [],
   "source": [
    "dataCryo = cryo_Logs('logs',17_000_000, 17_000_025, True)"
   ]
  },
  {
   "cell_type": "code",
   "execution_count": 10,
   "id": "a6677132-d669-49df-8e2c-0926f72dfe04",
   "metadata": {},
   "outputs": [],
   "source": [
    "dataWeb3 = web3_Logs(web3, 17_000_000, 17_000_025)"
   ]
  },
  {
   "cell_type": "code",
   "execution_count": 13,
   "id": "0ac24350-5bdc-4fcd-b570-76a903531e05",
   "metadata": {},
   "outputs": [
    {
     "data": {
      "text/plain": [
       "(6659, 10)"
      ]
     },
     "execution_count": 13,
     "metadata": {},
     "output_type": "execute_result"
    }
   ],
   "source": [
    "dataCryo.shape"
   ]
  },
  {
   "cell_type": "code",
   "execution_count": 14,
   "id": "7861da28-334b-4c4b-a7b5-d329de29ea68",
   "metadata": {},
   "outputs": [
    {
     "data": {
      "text/plain": [
       "(7068, 9)"
      ]
     },
     "execution_count": 14,
     "metadata": {},
     "output_type": "execute_result"
    }
   ],
   "source": [
    "dataWeb3.shape"
   ]
  },
  {
   "cell_type": "code",
   "execution_count": 7,
   "id": "39ca7494-0c3f-4ba4-830e-4d7b05dea499",
   "metadata": {},
   "outputs": [
    {
     "name": "stdout",
     "output_type": "stream",
     "text": [
      "The function took 1.5046000480651855 seconds to complete\n"
     ]
    }
   ],
   "source": [
    "time1 = measure_time(cryo_Logs, 'logs', start=17_000_000, end=17_000_025, toHex=True)"
   ]
  },
  {
   "cell_type": "code",
   "execution_count": 8,
   "id": "21849b06-8b42-4320-b5ce-baedd7a5cc5b",
   "metadata": {},
   "outputs": [
    {
     "name": "stdout",
     "output_type": "stream",
     "text": [
      "The function took 2.158151626586914 seconds to complete\n"
     ]
    }
   ],
   "source": [
    "time2 = measure_time(web3_Logs, web3, 17_000_000, 17_000_025)"
   ]
  },
  {
   "cell_type": "code",
   "execution_count": 11,
   "id": "450ea068-cdbc-44dd-a59d-47213fbed164",
   "metadata": {},
   "outputs": [
    {
     "data": {
      "text/html": [
       "<div><style>\n",
       ".dataframe > thead > tr > th,\n",
       ".dataframe > tbody > tr > td {\n",
       "  text-align: right;\n",
       "}\n",
       "</style>\n",
       "<small>shape: (6_659, 10)</small><table border=\"1\" class=\"dataframe\"><thead><tr><th>block_number</th><th>transaction_index</th><th>log_index</th><th>transaction_hash</th><th>contract_address</th><th>topic0</th><th>topic1</th><th>topic2</th><th>topic3</th><th>data</th></tr><tr><td>u32</td><td>u32</td><td>u32</td><td>str</td><td>str</td><td>str</td><td>str</td><td>str</td><td>str</td><td>str</td></tr></thead><tbody><tr><td>17000000</td><td>0</td><td>0</td><td>&quot;0xa278205118a2…</td><td>&quot;0xc02aaa39b223…</td><td>&quot;0xddf252ad1be2…</td><td>&quot;0x000000000000…</td><td>&quot;0x000000000000…</td><td>null</td><td>&quot;0x000000000000…</td></tr><tr><td>17000000</td><td>0</td><td>1</td><td>&quot;0xa278205118a2…</td><td>&quot;0xd015422879a1…</td><td>&quot;0xddf252ad1be2…</td><td>&quot;0x000000000000…</td><td>&quot;0x000000000000…</td><td>null</td><td>&quot;0x000000000000…</td></tr><tr><td>17000000</td><td>0</td><td>2</td><td>&quot;0xa278205118a2…</td><td>&quot;0xac084df0969b…</td><td>&quot;0x1c411e9a96e0…</td><td>null</td><td>null</td><td>null</td><td>&quot;0x000000000000…</td></tr><tr><td>17000000</td><td>0</td><td>3</td><td>&quot;0xa278205118a2…</td><td>&quot;0xac084df0969b…</td><td>&quot;0xd78ad95fa46c…</td><td>&quot;0x000000000000…</td><td>&quot;0x000000000000…</td><td>null</td><td>&quot;0x000000000000…</td></tr><tr><td>17000000</td><td>1</td><td>4</td><td>&quot;0x528bff3ef68e…</td><td>&quot;0xc02aaa39b223…</td><td>&quot;0xe1fffcc4923d…</td><td>&quot;0x000000000000…</td><td>null</td><td>null</td><td>&quot;0x000000000000…</td></tr><tr><td>17000000</td><td>1</td><td>5</td><td>&quot;0x528bff3ef68e…</td><td>&quot;0xc02aaa39b223…</td><td>&quot;0xddf252ad1be2…</td><td>&quot;0x000000000000…</td><td>&quot;0x000000000000…</td><td>null</td><td>&quot;0x000000000000…</td></tr><tr><td>17000000</td><td>1</td><td>6</td><td>&quot;0x528bff3ef68e…</td><td>&quot;0xc02aaa39b223…</td><td>&quot;0xddf252ad1be2…</td><td>&quot;0x000000000000…</td><td>&quot;0x000000000000…</td><td>null</td><td>&quot;0x000000000000…</td></tr><tr><td>17000000</td><td>1</td><td>7</td><td>&quot;0x528bff3ef68e…</td><td>&quot;0xd015422879a1…</td><td>&quot;0xddf252ad1be2…</td><td>&quot;0x000000000000…</td><td>&quot;0x000000000000…</td><td>null</td><td>&quot;0x000000000000…</td></tr><tr><td>17000000</td><td>1</td><td>8</td><td>&quot;0x528bff3ef68e…</td><td>&quot;0xac084df0969b…</td><td>&quot;0x1c411e9a96e0…</td><td>null</td><td>null</td><td>null</td><td>&quot;0x000000000000…</td></tr><tr><td>17000000</td><td>1</td><td>9</td><td>&quot;0x528bff3ef68e…</td><td>&quot;0xac084df0969b…</td><td>&quot;0xd78ad95fa46c…</td><td>&quot;0x000000000000…</td><td>&quot;0x000000000000…</td><td>null</td><td>&quot;0x000000000000…</td></tr><tr><td>17000000</td><td>2</td><td>10</td><td>&quot;0x75665cbd59df…</td><td>&quot;0xd015422879a1…</td><td>&quot;0xddf252ad1be2…</td><td>&quot;0x000000000000…</td><td>&quot;0x000000000000…</td><td>null</td><td>&quot;0x000000000000…</td></tr><tr><td>17000000</td><td>2</td><td>11</td><td>&quot;0x75665cbd59df…</td><td>&quot;0xc02aaa39b223…</td><td>&quot;0xddf252ad1be2…</td><td>&quot;0x000000000000…</td><td>&quot;0x000000000000…</td><td>null</td><td>&quot;0x000000000000…</td></tr><tr><td>&hellip;</td><td>&hellip;</td><td>&hellip;</td><td>&hellip;</td><td>&hellip;</td><td>&hellip;</td><td>&hellip;</td><td>&hellip;</td><td>&hellip;</td><td>&hellip;</td></tr><tr><td>17000024</td><td>108</td><td>230</td><td>&quot;0x065a56a37b92…</td><td>&quot;0x2bcc3690f2ae…</td><td>&quot;0x454c91ae84fc…</td><td>null</td><td>null</td><td>null</td><td>&quot;0x&quot;</td></tr><tr><td>17000024</td><td>108</td><td>231</td><td>&quot;0x065a56a37b92…</td><td>&quot;0x2bcc3690f2ae…</td><td>&quot;0xddf252ad1be2…</td><td>&quot;0x000000000000…</td><td>&quot;0x000000000000…</td><td>null</td><td>&quot;0x000000000000…</td></tr><tr><td>17000024</td><td>108</td><td>232</td><td>&quot;0x065a56a37b92…</td><td>&quot;0x2bcc3690f2ae…</td><td>&quot;0xddf252ad1be2…</td><td>&quot;0x000000000000…</td><td>&quot;0x000000000000…</td><td>null</td><td>&quot;0x000000000000…</td></tr><tr><td>17000024</td><td>108</td><td>233</td><td>&quot;0x065a56a37b92…</td><td>&quot;0x2bcc3690f2ae…</td><td>&quot;0x8c5be1e5ebec…</td><td>&quot;0x000000000000…</td><td>&quot;0x000000000000…</td><td>null</td><td>&quot;0xffffffffffff…</td></tr><tr><td>17000024</td><td>108</td><td>234</td><td>&quot;0x065a56a37b92…</td><td>&quot;0xc02aaa39b223…</td><td>&quot;0xddf252ad1be2…</td><td>&quot;0x000000000000…</td><td>&quot;0x000000000000…</td><td>null</td><td>&quot;0x000000000000…</td></tr><tr><td>17000024</td><td>108</td><td>235</td><td>&quot;0x065a56a37b92…</td><td>&quot;0xd5cdc98db8fa…</td><td>&quot;0x1c411e9a96e0…</td><td>null</td><td>null</td><td>null</td><td>&quot;0x000000000000…</td></tr><tr><td>17000024</td><td>108</td><td>236</td><td>&quot;0x065a56a37b92…</td><td>&quot;0xd5cdc98db8fa…</td><td>&quot;0xd78ad95fa46c…</td><td>&quot;0x000000000000…</td><td>&quot;0x000000000000…</td><td>null</td><td>&quot;0x000000000000…</td></tr><tr><td>17000024</td><td>108</td><td>237</td><td>&quot;0x065a56a37b92…</td><td>&quot;0xc02aaa39b223…</td><td>&quot;0x7fcf532c15f0…</td><td>&quot;0x000000000000…</td><td>null</td><td>null</td><td>&quot;0x000000000000…</td></tr><tr><td>17000024</td><td>109</td><td>238</td><td>&quot;0xc50102ad2d74…</td><td>&quot;0xa0b86991c621…</td><td>&quot;0xddf252ad1be2…</td><td>&quot;0x000000000000…</td><td>&quot;0x000000000000…</td><td>null</td><td>&quot;0x000000000000…</td></tr><tr><td>17000024</td><td>113</td><td>239</td><td>&quot;0x4042a1ad870f…</td><td>&quot;0xdac17f958d2e…</td><td>&quot;0xddf252ad1be2…</td><td>&quot;0x000000000000…</td><td>&quot;0x000000000000…</td><td>null</td><td>&quot;0x000000000000…</td></tr><tr><td>17000024</td><td>114</td><td>240</td><td>&quot;0x202ede4ef8f0…</td><td>&quot;0x904dd15ae0ba…</td><td>&quot;0x233fae7b06a6…</td><td>null</td><td>null</td><td>null</td><td>&quot;0x000000000000…</td></tr><tr><td>17000024</td><td>115</td><td>241</td><td>&quot;0x00734d31f2d6…</td><td>&quot;0x388c818ca8b9…</td><td>&quot;0x27f12abfe358…</td><td>null</td><td>null</td><td>null</td><td>&quot;0x000000000000…</td></tr></tbody></table></div>"
      ],
      "text/plain": [
       "shape: (6_659, 10)\n",
       "┌──────────────┬───────────────┬───────────┬───────────────┬───┬───────────────┬───────────────┬────────┬──────────────┐\n",
       "│ block_number ┆ transaction_i ┆ log_index ┆ transaction_h ┆ … ┆ topic1        ┆ topic2        ┆ topic3 ┆ data         │\n",
       "│ ---          ┆ ndex          ┆ ---       ┆ ash           ┆   ┆ ---           ┆ ---           ┆ ---    ┆ ---          │\n",
       "│ u32          ┆ ---           ┆ u32       ┆ ---           ┆   ┆ str           ┆ str           ┆ str    ┆ str          │\n",
       "│              ┆ u32           ┆           ┆ str           ┆   ┆               ┆               ┆        ┆              │\n",
       "╞══════════════╪═══════════════╪═══════════╪═══════════════╪═══╪═══════════════╪═══════════════╪════════╪══════════════╡\n",
       "│ 17000000     ┆ 0             ┆ 0         ┆ 0xa278205118a ┆ … ┆ 0x00000000000 ┆ 0x00000000000 ┆ null   ┆ 0x0000000000 │\n",
       "│              ┆               ┆           ┆ 242c87943b9ed ┆   ┆ 0000000000000 ┆ 0000000000000 ┆        ┆ 000000000000 │\n",
       "│              ┆               ┆           ┆ 83aaca…       ┆   ┆ 6b75d8…       ┆ ac084d…       ┆        ┆ 00000000…    │\n",
       "│ 17000000     ┆ 0             ┆ 1         ┆ 0xa278205118a ┆ … ┆ 0x00000000000 ┆ 0x00000000000 ┆ null   ┆ 0x0000000000 │\n",
       "│              ┆               ┆           ┆ 242c87943b9ed ┆   ┆ 0000000000000 ┆ 0000000000000 ┆        ┆ 000000000000 │\n",
       "│              ┆               ┆           ┆ 83aaca…       ┆   ┆ ac084d…       ┆ 6b75d8…       ┆        ┆ 00000000…    │\n",
       "│ 17000000     ┆ 0             ┆ 2         ┆ 0xa278205118a ┆ … ┆ null          ┆ null          ┆ null   ┆ 0x0000000000 │\n",
       "│              ┆               ┆           ┆ 242c87943b9ed ┆   ┆               ┆               ┆        ┆ 000000000000 │\n",
       "│              ┆               ┆           ┆ 83aaca…       ┆   ┆               ┆               ┆        ┆ 00000000…    │\n",
       "│ 17000000     ┆ 0             ┆ 3         ┆ 0xa278205118a ┆ … ┆ 0x00000000000 ┆ 0x00000000000 ┆ null   ┆ 0x0000000000 │\n",
       "│              ┆               ┆           ┆ 242c87943b9ed ┆   ┆ 0000000000000 ┆ 0000000000000 ┆        ┆ 000000000000 │\n",
       "│              ┆               ┆           ┆ 83aaca…       ┆   ┆ 6b75d8…       ┆ 6b75d8…       ┆        ┆ 00000000…    │\n",
       "│ …            ┆ …             ┆ …         ┆ …             ┆ … ┆ …             ┆ …             ┆ …      ┆ …            │\n",
       "│ 17000024     ┆ 109           ┆ 238       ┆ 0xc50102ad2d7 ┆ … ┆ 0x00000000000 ┆ 0x00000000000 ┆ null   ┆ 0x0000000000 │\n",
       "│              ┆               ┆           ┆ 48710183b8812 ┆   ┆ 0000000000000 ┆ 0000000000000 ┆        ┆ 000000000000 │\n",
       "│              ┆               ┆           ┆ 8993dd…       ┆   ┆ 2511d0…       ┆ 76ce95…       ┆        ┆ 00000000…    │\n",
       "│ 17000024     ┆ 113           ┆ 239       ┆ 0x4042a1ad870 ┆ … ┆ 0x00000000000 ┆ 0x00000000000 ┆ null   ┆ 0x0000000000 │\n",
       "│              ┆               ┆           ┆ fb36072618731 ┆   ┆ 0000000000000 ┆ 0000000000000 ┆        ┆ 000000000000 │\n",
       "│              ┆               ┆           ┆ 3ee791…       ┆   ┆ a3d48e…       ┆ a4a98c…       ┆        ┆ 00000000…    │\n",
       "│ 17000024     ┆ 114           ┆ 240       ┆ 0x202ede4ef8f ┆ … ┆ null          ┆ null          ┆ null   ┆ 0x0000000000 │\n",
       "│              ┆               ┆           ┆ 0e7993af994fd ┆   ┆               ┆               ┆        ┆ 000000000000 │\n",
       "│              ┆               ┆           ┆ 5eae3b…       ┆   ┆               ┆               ┆        ┆ 00000000…    │\n",
       "│ 17000024     ┆ 115           ┆ 241       ┆ 0x00734d31f2d ┆ … ┆ null          ┆ null          ┆ null   ┆ 0x0000000000 │\n",
       "│              ┆               ┆           ┆ 6dbf8d1b7739d ┆   ┆               ┆               ┆        ┆ 000000000000 │\n",
       "│              ┆               ┆           ┆ 3b7eca…       ┆   ┆               ┆               ┆        ┆ 00000000…    │\n",
       "└──────────────┴───────────────┴───────────┴───────────────┴───┴───────────────┴───────────────┴────────┴──────────────┘"
      ]
     },
     "execution_count": 11,
     "metadata": {},
     "output_type": "execute_result"
    }
   ],
   "source": [
    "dataCryo"
   ]
  },
  {
   "cell_type": "code",
   "execution_count": 12,
   "id": "667f7ae7-a76f-49ef-9c4a-408a7063c923",
   "metadata": {},
   "outputs": [
    {
     "data": {
      "text/html": [
       "<div>\n",
       "<style scoped>\n",
       "    .dataframe tbody tr th:only-of-type {\n",
       "        vertical-align: middle;\n",
       "    }\n",
       "\n",
       "    .dataframe tbody tr th {\n",
       "        vertical-align: top;\n",
       "    }\n",
       "\n",
       "    .dataframe thead th {\n",
       "        text-align: right;\n",
       "    }\n",
       "</style>\n",
       "<table border=\"1\" class=\"dataframe\">\n",
       "  <thead>\n",
       "    <tr style=\"text-align: right;\">\n",
       "      <th></th>\n",
       "      <th>address</th>\n",
       "      <th>blockHash</th>\n",
       "      <th>blockNumber</th>\n",
       "      <th>data</th>\n",
       "      <th>logIndex</th>\n",
       "      <th>removed</th>\n",
       "      <th>topics</th>\n",
       "      <th>transactionHash</th>\n",
       "      <th>transactionIndex</th>\n",
       "    </tr>\n",
       "  </thead>\n",
       "  <tbody>\n",
       "    <tr>\n",
       "      <th>0</th>\n",
       "      <td>0xC02aaA39b223FE8D0A0e5C4F27eAD9083C756Cc2</td>\n",
       "      <td>b'\\x96\\xcf\\xa0\\xfb^P\\xb0\\xa3\\xf6\\xccv\\xf3)\\x9c...</td>\n",
       "      <td>17000000</td>\n",
       "      <td>b'\\x00\\x00\\x00\\x00\\x00\\x00\\x00\\x00\\x00\\x00\\x00...</td>\n",
       "      <td>0</td>\n",
       "      <td>False</td>\n",
       "      <td>[b'\\xdd\\xf2R\\xad\\x1b\\xe2\\xc8\\x9bi\\xc2\\xb0h\\xfc...</td>\n",
       "      <td>b\"\\xa2x Q\\x18\\xa2B\\xc8yC\\xb9\\xed\\x83\\xaa\\xca\\x...</td>\n",
       "      <td>0</td>\n",
       "    </tr>\n",
       "    <tr>\n",
       "      <th>1</th>\n",
       "      <td>0xD015422879A1308ba557510345E944B912b9aB73</td>\n",
       "      <td>b'\\x96\\xcf\\xa0\\xfb^P\\xb0\\xa3\\xf6\\xccv\\xf3)\\x9c...</td>\n",
       "      <td>17000000</td>\n",
       "      <td>b'\\x00\\x00\\x00\\x00\\x00\\x00\\x00\\x00\\x00\\x00\\x00...</td>\n",
       "      <td>1</td>\n",
       "      <td>False</td>\n",
       "      <td>[b'\\xdd\\xf2R\\xad\\x1b\\xe2\\xc8\\x9bi\\xc2\\xb0h\\xfc...</td>\n",
       "      <td>b\"\\xa2x Q\\x18\\xa2B\\xc8yC\\xb9\\xed\\x83\\xaa\\xca\\x...</td>\n",
       "      <td>0</td>\n",
       "    </tr>\n",
       "    <tr>\n",
       "      <th>2</th>\n",
       "      <td>0xaC084dF0969bD1e9Bb8A2079cf317A30476210f6</td>\n",
       "      <td>b'\\x96\\xcf\\xa0\\xfb^P\\xb0\\xa3\\xf6\\xccv\\xf3)\\x9c...</td>\n",
       "      <td>17000000</td>\n",
       "      <td>b\"\\x00\\x00\\x00\\x00\\x00\\x00\\x00\\x00\\x00\\x00\\x00...</td>\n",
       "      <td>2</td>\n",
       "      <td>False</td>\n",
       "      <td>[b'\\x1cA\\x1e\\x9a\\x96\\xe0q$\\x1c/!\\xf7rk\\x17\\xae...</td>\n",
       "      <td>b\"\\xa2x Q\\x18\\xa2B\\xc8yC\\xb9\\xed\\x83\\xaa\\xca\\x...</td>\n",
       "      <td>0</td>\n",
       "    </tr>\n",
       "    <tr>\n",
       "      <th>3</th>\n",
       "      <td>0xaC084dF0969bD1e9Bb8A2079cf317A30476210f6</td>\n",
       "      <td>b'\\x96\\xcf\\xa0\\xfb^P\\xb0\\xa3\\xf6\\xccv\\xf3)\\x9c...</td>\n",
       "      <td>17000000</td>\n",
       "      <td>b'\\x00\\x00\\x00\\x00\\x00\\x00\\x00\\x00\\x00\\x00\\x00...</td>\n",
       "      <td>3</td>\n",
       "      <td>False</td>\n",
       "      <td>[b'\\xd7\\x8a\\xd9_\\xa4l\\x99KeQ\\xd0\\xda\\x85\\xfc\\'...</td>\n",
       "      <td>b\"\\xa2x Q\\x18\\xa2B\\xc8yC\\xb9\\xed\\x83\\xaa\\xca\\x...</td>\n",
       "      <td>0</td>\n",
       "    </tr>\n",
       "    <tr>\n",
       "      <th>4</th>\n",
       "      <td>0xC02aaA39b223FE8D0A0e5C4F27eAD9083C756Cc2</td>\n",
       "      <td>b'\\x96\\xcf\\xa0\\xfb^P\\xb0\\xa3\\xf6\\xccv\\xf3)\\x9c...</td>\n",
       "      <td>17000000</td>\n",
       "      <td>b'\\x00\\x00\\x00\\x00\\x00\\x00\\x00\\x00\\x00\\x00\\x00...</td>\n",
       "      <td>4</td>\n",
       "      <td>False</td>\n",
       "      <td>[b'\\xe1\\xff\\xfc\\xc4\\x92=\\x04\\xb5Y\\xf4\\xd2\\x9a\\...</td>\n",
       "      <td>b'R\\x8b\\xff&gt;\\xf6\\x8e\\x8c\\x027`\\xcc\\xba\\xec\\xc0...</td>\n",
       "      <td>1</td>\n",
       "    </tr>\n",
       "    <tr>\n",
       "      <th>...</th>\n",
       "      <td>...</td>\n",
       "      <td>...</td>\n",
       "      <td>...</td>\n",
       "      <td>...</td>\n",
       "      <td>...</td>\n",
       "      <td>...</td>\n",
       "      <td>...</td>\n",
       "      <td>...</td>\n",
       "      <td>...</td>\n",
       "    </tr>\n",
       "    <tr>\n",
       "      <th>7063</th>\n",
       "      <td>0x85a1867322D2dd771967caB929Aab2E863796178</td>\n",
       "      <td>b'\\xc9|\\xff\\x10\\x03\\xda\\xbc\\xe3\\x1f`A$\\xd4\\xa5...</td>\n",
       "      <td>17000025</td>\n",
       "      <td>b'\\x00\\x00\\x00\\x00\\x00\\x00\\x00\\x00\\x00\\x00\\x00...</td>\n",
       "      <td>404</td>\n",
       "      <td>False</td>\n",
       "      <td>[b'\\x1cA\\x1e\\x9a\\x96\\xe0q$\\x1c/!\\xf7rk\\x17\\xae...</td>\n",
       "      <td>b'\\x9f\\xadP\\x7f&amp;\\xc8,\\x11\\xea\\x151\\xd2i\\xf3?Lr...</td>\n",
       "      <td>115</td>\n",
       "    </tr>\n",
       "    <tr>\n",
       "      <th>7064</th>\n",
       "      <td>0x85a1867322D2dd771967caB929Aab2E863796178</td>\n",
       "      <td>b'\\xc9|\\xff\\x10\\x03\\xda\\xbc\\xe3\\x1f`A$\\xd4\\xa5...</td>\n",
       "      <td>17000025</td>\n",
       "      <td>b'\\x00\\x00\\x00\\x00\\x00\\x00\\x00\\x00\\x00\\x00\\x00...</td>\n",
       "      <td>405</td>\n",
       "      <td>False</td>\n",
       "      <td>[b'\\xd7\\x8a\\xd9_\\xa4l\\x99KeQ\\xd0\\xda\\x85\\xfc\\'...</td>\n",
       "      <td>b'\\x9f\\xadP\\x7f&amp;\\xc8,\\x11\\xea\\x151\\xd2i\\xf3?Lr...</td>\n",
       "      <td>115</td>\n",
       "    </tr>\n",
       "    <tr>\n",
       "      <th>7065</th>\n",
       "      <td>0x32BB5a147b5371Fd901Aa4a72B7F82c58A87e36d</td>\n",
       "      <td>b'\\xc9|\\xff\\x10\\x03\\xda\\xbc\\xe3\\x1f`A$\\xd4\\xa5...</td>\n",
       "      <td>17000025</td>\n",
       "      <td>b'\\x00\\x00\\x00\\x00\\x00\\x00\\x00\\x00\\x00\\x00\\x00...</td>\n",
       "      <td>406</td>\n",
       "      <td>False</td>\n",
       "      <td>[b'\\x170~\\xab9\\xaba\\x07\\xe8\\x89\\x98E\\xad=Y\\xbd...</td>\n",
       "      <td>b'\\x03\\xeb\\xc4d\\xd9\\xa6x\\x97\\x17\\xe4\\x1f\\x80\\x...</td>\n",
       "      <td>118</td>\n",
       "    </tr>\n",
       "    <tr>\n",
       "      <th>7066</th>\n",
       "      <td>0xdAC17F958D2ee523a2206206994597C13D831ec7</td>\n",
       "      <td>b'\\xc9|\\xff\\x10\\x03\\xda\\xbc\\xe3\\x1f`A$\\xd4\\xa5...</td>\n",
       "      <td>17000025</td>\n",
       "      <td>b'\\x00\\x00\\x00\\x00\\x00\\x00\\x00\\x00\\x00\\x00\\x00...</td>\n",
       "      <td>407</td>\n",
       "      <td>False</td>\n",
       "      <td>[b'\\xdd\\xf2R\\xad\\x1b\\xe2\\xc8\\x9bi\\xc2\\xb0h\\xfc...</td>\n",
       "      <td>b'\\x80\\xe6{\\xbc\\x8c\\xfd\\xbf\\xaa\\x17\\xda\\x1c\\x9...</td>\n",
       "      <td>120</td>\n",
       "    </tr>\n",
       "    <tr>\n",
       "      <th>7067</th>\n",
       "      <td>0x388C818CA8B9251b393131C08a736A67ccB19297</td>\n",
       "      <td>b'\\xc9|\\xff\\x10\\x03\\xda\\xbc\\xe3\\x1f`A$\\xd4\\xa5...</td>\n",
       "      <td>17000025</td>\n",
       "      <td>b'\\x00\\x00\\x00\\x00\\x00\\x00\\x00\\x00\\x00\\x00\\x00...</td>\n",
       "      <td>408</td>\n",
       "      <td>False</td>\n",
       "      <td>[b\"'\\xf1*\\xbf\\xe3X`\\xa9\\xa9'\\xb4e\\xbb=J\\x9c#\\x...</td>\n",
       "      <td>b\"\\xe8B\\x10\\x8b\\x04\\xa2A\\xabQ\\x89\\xb9=\\xc7YS\\x...</td>\n",
       "      <td>121</td>\n",
       "    </tr>\n",
       "  </tbody>\n",
       "</table>\n",
       "<p>7068 rows × 9 columns</p>\n",
       "</div>"
      ],
      "text/plain": [
       "                                         address  \\\n",
       "0     0xC02aaA39b223FE8D0A0e5C4F27eAD9083C756Cc2   \n",
       "1     0xD015422879A1308ba557510345E944B912b9aB73   \n",
       "2     0xaC084dF0969bD1e9Bb8A2079cf317A30476210f6   \n",
       "3     0xaC084dF0969bD1e9Bb8A2079cf317A30476210f6   \n",
       "4     0xC02aaA39b223FE8D0A0e5C4F27eAD9083C756Cc2   \n",
       "...                                          ...   \n",
       "7063  0x85a1867322D2dd771967caB929Aab2E863796178   \n",
       "7064  0x85a1867322D2dd771967caB929Aab2E863796178   \n",
       "7065  0x32BB5a147b5371Fd901Aa4a72B7F82c58A87e36d   \n",
       "7066  0xdAC17F958D2ee523a2206206994597C13D831ec7   \n",
       "7067  0x388C818CA8B9251b393131C08a736A67ccB19297   \n",
       "\n",
       "                                              blockHash  blockNumber  \\\n",
       "0     b'\\x96\\xcf\\xa0\\xfb^P\\xb0\\xa3\\xf6\\xccv\\xf3)\\x9c...     17000000   \n",
       "1     b'\\x96\\xcf\\xa0\\xfb^P\\xb0\\xa3\\xf6\\xccv\\xf3)\\x9c...     17000000   \n",
       "2     b'\\x96\\xcf\\xa0\\xfb^P\\xb0\\xa3\\xf6\\xccv\\xf3)\\x9c...     17000000   \n",
       "3     b'\\x96\\xcf\\xa0\\xfb^P\\xb0\\xa3\\xf6\\xccv\\xf3)\\x9c...     17000000   \n",
       "4     b'\\x96\\xcf\\xa0\\xfb^P\\xb0\\xa3\\xf6\\xccv\\xf3)\\x9c...     17000000   \n",
       "...                                                 ...          ...   \n",
       "7063  b'\\xc9|\\xff\\x10\\x03\\xda\\xbc\\xe3\\x1f`A$\\xd4\\xa5...     17000025   \n",
       "7064  b'\\xc9|\\xff\\x10\\x03\\xda\\xbc\\xe3\\x1f`A$\\xd4\\xa5...     17000025   \n",
       "7065  b'\\xc9|\\xff\\x10\\x03\\xda\\xbc\\xe3\\x1f`A$\\xd4\\xa5...     17000025   \n",
       "7066  b'\\xc9|\\xff\\x10\\x03\\xda\\xbc\\xe3\\x1f`A$\\xd4\\xa5...     17000025   \n",
       "7067  b'\\xc9|\\xff\\x10\\x03\\xda\\xbc\\xe3\\x1f`A$\\xd4\\xa5...     17000025   \n",
       "\n",
       "                                                   data  logIndex  removed  \\\n",
       "0     b'\\x00\\x00\\x00\\x00\\x00\\x00\\x00\\x00\\x00\\x00\\x00...         0    False   \n",
       "1     b'\\x00\\x00\\x00\\x00\\x00\\x00\\x00\\x00\\x00\\x00\\x00...         1    False   \n",
       "2     b\"\\x00\\x00\\x00\\x00\\x00\\x00\\x00\\x00\\x00\\x00\\x00...         2    False   \n",
       "3     b'\\x00\\x00\\x00\\x00\\x00\\x00\\x00\\x00\\x00\\x00\\x00...         3    False   \n",
       "4     b'\\x00\\x00\\x00\\x00\\x00\\x00\\x00\\x00\\x00\\x00\\x00...         4    False   \n",
       "...                                                 ...       ...      ...   \n",
       "7063  b'\\x00\\x00\\x00\\x00\\x00\\x00\\x00\\x00\\x00\\x00\\x00...       404    False   \n",
       "7064  b'\\x00\\x00\\x00\\x00\\x00\\x00\\x00\\x00\\x00\\x00\\x00...       405    False   \n",
       "7065  b'\\x00\\x00\\x00\\x00\\x00\\x00\\x00\\x00\\x00\\x00\\x00...       406    False   \n",
       "7066  b'\\x00\\x00\\x00\\x00\\x00\\x00\\x00\\x00\\x00\\x00\\x00...       407    False   \n",
       "7067  b'\\x00\\x00\\x00\\x00\\x00\\x00\\x00\\x00\\x00\\x00\\x00...       408    False   \n",
       "\n",
       "                                                 topics  \\\n",
       "0     [b'\\xdd\\xf2R\\xad\\x1b\\xe2\\xc8\\x9bi\\xc2\\xb0h\\xfc...   \n",
       "1     [b'\\xdd\\xf2R\\xad\\x1b\\xe2\\xc8\\x9bi\\xc2\\xb0h\\xfc...   \n",
       "2     [b'\\x1cA\\x1e\\x9a\\x96\\xe0q$\\x1c/!\\xf7rk\\x17\\xae...   \n",
       "3     [b'\\xd7\\x8a\\xd9_\\xa4l\\x99KeQ\\xd0\\xda\\x85\\xfc\\'...   \n",
       "4     [b'\\xe1\\xff\\xfc\\xc4\\x92=\\x04\\xb5Y\\xf4\\xd2\\x9a\\...   \n",
       "...                                                 ...   \n",
       "7063  [b'\\x1cA\\x1e\\x9a\\x96\\xe0q$\\x1c/!\\xf7rk\\x17\\xae...   \n",
       "7064  [b'\\xd7\\x8a\\xd9_\\xa4l\\x99KeQ\\xd0\\xda\\x85\\xfc\\'...   \n",
       "7065  [b'\\x170~\\xab9\\xaba\\x07\\xe8\\x89\\x98E\\xad=Y\\xbd...   \n",
       "7066  [b'\\xdd\\xf2R\\xad\\x1b\\xe2\\xc8\\x9bi\\xc2\\xb0h\\xfc...   \n",
       "7067  [b\"'\\xf1*\\xbf\\xe3X`\\xa9\\xa9'\\xb4e\\xbb=J\\x9c#\\x...   \n",
       "\n",
       "                                        transactionHash  transactionIndex  \n",
       "0     b\"\\xa2x Q\\x18\\xa2B\\xc8yC\\xb9\\xed\\x83\\xaa\\xca\\x...                 0  \n",
       "1     b\"\\xa2x Q\\x18\\xa2B\\xc8yC\\xb9\\xed\\x83\\xaa\\xca\\x...                 0  \n",
       "2     b\"\\xa2x Q\\x18\\xa2B\\xc8yC\\xb9\\xed\\x83\\xaa\\xca\\x...                 0  \n",
       "3     b\"\\xa2x Q\\x18\\xa2B\\xc8yC\\xb9\\xed\\x83\\xaa\\xca\\x...                 0  \n",
       "4     b'R\\x8b\\xff>\\xf6\\x8e\\x8c\\x027`\\xcc\\xba\\xec\\xc0...                 1  \n",
       "...                                                 ...               ...  \n",
       "7063  b'\\x9f\\xadP\\x7f&\\xc8,\\x11\\xea\\x151\\xd2i\\xf3?Lr...               115  \n",
       "7064  b'\\x9f\\xadP\\x7f&\\xc8,\\x11\\xea\\x151\\xd2i\\xf3?Lr...               115  \n",
       "7065  b'\\x03\\xeb\\xc4d\\xd9\\xa6x\\x97\\x17\\xe4\\x1f\\x80\\x...               118  \n",
       "7066  b'\\x80\\xe6{\\xbc\\x8c\\xfd\\xbf\\xaa\\x17\\xda\\x1c\\x9...               120  \n",
       "7067  b\"\\xe8B\\x10\\x8b\\x04\\xa2A\\xabQ\\x89\\xb9=\\xc7YS\\x...               121  \n",
       "\n",
       "[7068 rows x 9 columns]"
      ]
     },
     "execution_count": 12,
     "metadata": {},
     "output_type": "execute_result"
    }
   ],
   "source": [
    "dataWeb3"
   ]
  },
  {
   "cell_type": "code",
   "execution_count": null,
   "id": "a49e9e8f-8b13-437e-ab37-84ee362d4764",
   "metadata": {},
   "outputs": [],
   "source": []
  }
 ],
 "metadata": {
  "kernelspec": {
   "display_name": "Cryo",
   "language": "python",
   "name": "cryo"
  },
  "language_info": {
   "codemirror_mode": {
    "name": "ipython",
    "version": 3
   },
   "file_extension": ".py",
   "mimetype": "text/x-python",
   "name": "python",
   "nbconvert_exporter": "python",
   "pygments_lexer": "ipython3",
   "version": "3.10.7"
  }
 },
 "nbformat": 4,
 "nbformat_minor": 5
}
